{
 "cells": [
  {
   "cell_type": "code",
   "execution_count": 21,
   "id": "df4d64d3",
   "metadata": {},
   "outputs": [],
   "source": [
    "import pandas as pd\n",
    "from google.cloud import bigquery\n",
    "from pyspark.sql import SparkSession\n",
    "from pyspark import SparkConf"
   ]
  },
  {
   "cell_type": "code",
   "execution_count": 2,
   "id": "c057e986",
   "metadata": {},
   "outputs": [],
   "source": [
    "client = bigquery.Client()"
   ]
  },
  {
   "cell_type": "code",
   "execution_count": null,
   "id": "39dd95b0",
   "metadata": {},
   "outputs": [],
   "source": []
  },
  {
   "cell_type": "markdown",
   "id": "0108ce1e",
   "metadata": {},
   "source": [
    "# Customers data"
   ]
  },
  {
   "cell_type": "code",
   "execution_count": 50,
   "id": "d4c03315",
   "metadata": {},
   "outputs": [],
   "source": [
    "customer_df = pd.read_csv(\"../data/customers.csv\")"
   ]
  },
  {
   "cell_type": "code",
   "execution_count": 51,
   "id": "4bf53025",
   "metadata": {},
   "outputs": [
    {
     "data": {
      "text/html": [
       "<div>\n",
       "<style scoped>\n",
       "    .dataframe tbody tr th:only-of-type {\n",
       "        vertical-align: middle;\n",
       "    }\n",
       "\n",
       "    .dataframe tbody tr th {\n",
       "        vertical-align: top;\n",
       "    }\n",
       "\n",
       "    .dataframe thead th {\n",
       "        text-align: right;\n",
       "    }\n",
       "</style>\n",
       "<table border=\"1\" class=\"dataframe\">\n",
       "  <thead>\n",
       "    <tr style=\"text-align: right;\">\n",
       "      <th></th>\n",
       "      <th>email</th>\n",
       "      <th>customer_id</th>\n",
       "      <th>country</th>\n",
       "    </tr>\n",
       "  </thead>\n",
       "  <tbody>\n",
       "    <tr>\n",
       "      <th>0</th>\n",
       "      <td>mblodxnyamqhdsvo@yahoo.com</td>\n",
       "      <td>4da8f229-d382-40e9-9638-4149ac20043a</td>\n",
       "      <td>JP</td>\n",
       "    </tr>\n",
       "    <tr>\n",
       "      <th>1</th>\n",
       "      <td>andhkxhbapsvjs@hotmail.com</td>\n",
       "      <td>5731aca0-8432-46fc-9d90-2727e6ead179</td>\n",
       "      <td>JP</td>\n",
       "    </tr>\n",
       "    <tr>\n",
       "      <th>2</th>\n",
       "      <td>xbmdggthhulure@outlook.com</td>\n",
       "      <td>af76472a-15ca-43c8-8a7d-bd4c85ba94aa</td>\n",
       "      <td>US</td>\n",
       "    </tr>\n",
       "    <tr>\n",
       "      <th>3</th>\n",
       "      <td>ogsyrodfyzmuxpekgv@gmail.com</td>\n",
       "      <td>c47932af-883b-4926-879a-656293a1c9cd</td>\n",
       "      <td>DE</td>\n",
       "    </tr>\n",
       "    <tr>\n",
       "      <th>4</th>\n",
       "      <td>dpvvimwrbvdcmh@aol.com</td>\n",
       "      <td>adeecb49-5e5c-41a0-abc0-3095bcbdfcb9</td>\n",
       "      <td>JP</td>\n",
       "    </tr>\n",
       "  </tbody>\n",
       "</table>\n",
       "</div>"
      ],
      "text/plain": [
       "                          email                           customer_id country\n",
       "0    mblodxnyamqhdsvo@yahoo.com  4da8f229-d382-40e9-9638-4149ac20043a      JP\n",
       "1    andhkxhbapsvjs@hotmail.com  5731aca0-8432-46fc-9d90-2727e6ead179      JP\n",
       "2    xbmdggthhulure@outlook.com  af76472a-15ca-43c8-8a7d-bd4c85ba94aa      US\n",
       "3  ogsyrodfyzmuxpekgv@gmail.com  c47932af-883b-4926-879a-656293a1c9cd      DE\n",
       "4        dpvvimwrbvdcmh@aol.com  adeecb49-5e5c-41a0-abc0-3095bcbdfcb9      JP"
      ]
     },
     "execution_count": 51,
     "metadata": {},
     "output_type": "execute_result"
    }
   ],
   "source": [
    "customer_df.head()"
   ]
  },
  {
   "cell_type": "code",
   "execution_count": 52,
   "id": "2f107247",
   "metadata": {},
   "outputs": [
    {
     "data": {
      "text/plain": [
       "(1000000, 3)"
      ]
     },
     "execution_count": 52,
     "metadata": {},
     "output_type": "execute_result"
    }
   ],
   "source": [
    "customer_df.shape"
   ]
  },
  {
   "cell_type": "code",
   "execution_count": 53,
   "id": "366376e2",
   "metadata": {},
   "outputs": [
    {
     "data": {
      "text/plain": [
       "Index(['email', 'customer_id', 'country'], dtype='object')"
      ]
     },
     "execution_count": 53,
     "metadata": {},
     "output_type": "execute_result"
    }
   ],
   "source": [
    "customer_df.columns"
   ]
  },
  {
   "cell_type": "code",
   "execution_count": 54,
   "id": "7952a919",
   "metadata": {},
   "outputs": [
    {
     "name": "stdout",
     "output_type": "stream",
     "text": [
      "<class 'pandas.core.frame.DataFrame'>\n",
      "RangeIndex: 1000000 entries, 0 to 999999\n",
      "Data columns (total 3 columns):\n",
      " #   Column       Non-Null Count    Dtype \n",
      "---  ------       --------------    ----- \n",
      " 0   email        1000000 non-null  object\n",
      " 1   customer_id  1000000 non-null  object\n",
      " 2   country      1000000 non-null  object\n",
      "dtypes: object(3)\n",
      "memory usage: 22.9+ MB\n"
     ]
    }
   ],
   "source": [
    "customer_df.info()"
   ]
  },
  {
   "cell_type": "code",
   "execution_count": 55,
   "id": "8d2a83ac",
   "metadata": {},
   "outputs": [
    {
     "data": {
      "text/html": [
       "<div>\n",
       "<style scoped>\n",
       "    .dataframe tbody tr th:only-of-type {\n",
       "        vertical-align: middle;\n",
       "    }\n",
       "\n",
       "    .dataframe tbody tr th {\n",
       "        vertical-align: top;\n",
       "    }\n",
       "\n",
       "    .dataframe thead th {\n",
       "        text-align: right;\n",
       "    }\n",
       "</style>\n",
       "<table border=\"1\" class=\"dataframe\">\n",
       "  <thead>\n",
       "    <tr style=\"text-align: right;\">\n",
       "      <th></th>\n",
       "      <th>email</th>\n",
       "      <th>customer_id</th>\n",
       "      <th>country</th>\n",
       "    </tr>\n",
       "  </thead>\n",
       "  <tbody>\n",
       "    <tr>\n",
       "      <th>count</th>\n",
       "      <td>1000000</td>\n",
       "      <td>1000000</td>\n",
       "      <td>1000000</td>\n",
       "    </tr>\n",
       "    <tr>\n",
       "      <th>unique</th>\n",
       "      <td>1000000</td>\n",
       "      <td>1000000</td>\n",
       "      <td>5</td>\n",
       "    </tr>\n",
       "    <tr>\n",
       "      <th>top</th>\n",
       "      <td>mblodxnyamqhdsvo@yahoo.com</td>\n",
       "      <td>4da8f229-d382-40e9-9638-4149ac20043a</td>\n",
       "      <td>FR</td>\n",
       "    </tr>\n",
       "    <tr>\n",
       "      <th>freq</th>\n",
       "      <td>1</td>\n",
       "      <td>1</td>\n",
       "      <td>201045</td>\n",
       "    </tr>\n",
       "  </tbody>\n",
       "</table>\n",
       "</div>"
      ],
      "text/plain": [
       "                             email                           customer_id   \n",
       "count                      1000000                               1000000  \\\n",
       "unique                     1000000                               1000000   \n",
       "top     mblodxnyamqhdsvo@yahoo.com  4da8f229-d382-40e9-9638-4149ac20043a   \n",
       "freq                             1                                     1   \n",
       "\n",
       "        country  \n",
       "count   1000000  \n",
       "unique        5  \n",
       "top          FR  \n",
       "freq     201045  "
      ]
     },
     "execution_count": 55,
     "metadata": {},
     "output_type": "execute_result"
    }
   ],
   "source": [
    "customer_df.describe()"
   ]
  },
  {
   "cell_type": "markdown",
   "id": "6d49dace",
   "metadata": {},
   "source": [
    "## Load customers data to BigQuery"
   ]
  },
  {
   "cell_type": "code",
   "execution_count": 30,
   "id": "b81344da",
   "metadata": {},
   "outputs": [],
   "source": [
    "job_config = bigquery.LoadJobConfig(\n",
    "    clustering_fields=[\"country\"],\n",
    "    write_disposition=\"WRITE_TRUNCATE\",\n",
    ")"
   ]
  },
  {
   "cell_type": "code",
   "execution_count": 32,
   "id": "b7411b79",
   "metadata": {},
   "outputs": [
    {
     "data": {
      "text/plain": [
       "LoadJob<project=panalyt-datapipeline, location=asia-southeast1, id=225b1b2c-38e9-47f9-8d92-f4172e777ddf>"
      ]
     },
     "execution_count": 32,
     "metadata": {},
     "output_type": "execute_result"
    }
   ],
   "source": [
    "job = client.load_table_from_dataframe(\n",
    "    customer_df, \"datapipeline.raw_car.customers\", job_config=job_config\n",
    ")  # Make an API request.\n",
    "job.result()  # Wait for the job to complete."
   ]
  },
  {
   "cell_type": "code",
   "execution_count": 33,
   "id": "c0d20cc1",
   "metadata": {},
   "outputs": [
    {
     "data": {
      "text/plain": [
       "1000000"
      ]
     },
     "execution_count": 33,
     "metadata": {},
     "output_type": "execute_result"
    }
   ],
   "source": [
    "client.get_table(\"datapipeline.raw_car.customers\").num_rows"
   ]
  },
  {
   "cell_type": "code",
   "execution_count": null,
   "id": "e9b33f55",
   "metadata": {},
   "outputs": [],
   "source": []
  },
  {
   "cell_type": "markdown",
   "id": "e709ffed",
   "metadata": {},
   "source": [
    "# Hardware sales data"
   ]
  },
  {
   "cell_type": "code",
   "execution_count": 3,
   "id": "1b2db2f7",
   "metadata": {},
   "outputs": [],
   "source": [
    "hardware_df = pd.read_excel(\"../data/hardware_sales.xlsx\")"
   ]
  },
  {
   "cell_type": "code",
   "execution_count": 4,
   "id": "e7c6e53e",
   "metadata": {},
   "outputs": [
    {
     "data": {
      "text/html": [
       "<div>\n",
       "<style scoped>\n",
       "    .dataframe tbody tr th:only-of-type {\n",
       "        vertical-align: middle;\n",
       "    }\n",
       "\n",
       "    .dataframe tbody tr th {\n",
       "        vertical-align: top;\n",
       "    }\n",
       "\n",
       "    .dataframe thead th {\n",
       "        text-align: right;\n",
       "    }\n",
       "</style>\n",
       "<table border=\"1\" class=\"dataframe\">\n",
       "  <thead>\n",
       "    <tr style=\"text-align: right;\">\n",
       "      <th></th>\n",
       "      <th>email</th>\n",
       "      <th>order_id</th>\n",
       "      <th>revenue</th>\n",
       "      <th>timestamp</th>\n",
       "    </tr>\n",
       "  </thead>\n",
       "  <tbody>\n",
       "    <tr>\n",
       "      <th>0</th>\n",
       "      <td>ellcsqjyxbsoujwbp@outlook.com</td>\n",
       "      <td>EB192F6893DCBF76766D5310</td>\n",
       "      <td>19.99</td>\n",
       "      <td>1558831217</td>\n",
       "    </tr>\n",
       "    <tr>\n",
       "      <th>1</th>\n",
       "      <td>jeszbtnjpankz@icloud.com</td>\n",
       "      <td>46AE0481B392C9FF723483BD</td>\n",
       "      <td>39.99</td>\n",
       "      <td>1636228626</td>\n",
       "    </tr>\n",
       "    <tr>\n",
       "      <th>2</th>\n",
       "      <td>nxefbqahwuchvnzfdj@protonmail.com</td>\n",
       "      <td>318971F3FD4D0A84C2BB853B</td>\n",
       "      <td>49.99</td>\n",
       "      <td>1652954805</td>\n",
       "    </tr>\n",
       "    <tr>\n",
       "      <th>3</th>\n",
       "      <td>nlpgeqlhetla@aol.com</td>\n",
       "      <td>46B36B2797A614C2E09C35B9</td>\n",
       "      <td>49.99</td>\n",
       "      <td>1644129781</td>\n",
       "    </tr>\n",
       "    <tr>\n",
       "      <th>4</th>\n",
       "      <td>eizngzzeosylxslyfr@outlook.com</td>\n",
       "      <td>AC924E89C2FAF19F354B85E0</td>\n",
       "      <td>49.99</td>\n",
       "      <td>1669238899</td>\n",
       "    </tr>\n",
       "  </tbody>\n",
       "</table>\n",
       "</div>"
      ],
      "text/plain": [
       "                               email                  order_id  revenue   \n",
       "0      ellcsqjyxbsoujwbp@outlook.com  EB192F6893DCBF76766D5310    19.99  \\\n",
       "1           jeszbtnjpankz@icloud.com  46AE0481B392C9FF723483BD    39.99   \n",
       "2  nxefbqahwuchvnzfdj@protonmail.com  318971F3FD4D0A84C2BB853B    49.99   \n",
       "3               nlpgeqlhetla@aol.com  46B36B2797A614C2E09C35B9    49.99   \n",
       "4     eizngzzeosylxslyfr@outlook.com  AC924E89C2FAF19F354B85E0    49.99   \n",
       "\n",
       "    timestamp  \n",
       "0  1558831217  \n",
       "1  1636228626  \n",
       "2  1652954805  \n",
       "3  1644129781  \n",
       "4  1669238899  "
      ]
     },
     "execution_count": 4,
     "metadata": {},
     "output_type": "execute_result"
    }
   ],
   "source": [
    "hardware_df.head()"
   ]
  },
  {
   "cell_type": "code",
   "execution_count": 5,
   "id": "005b9487",
   "metadata": {},
   "outputs": [
    {
     "data": {
      "text/plain": [
       "(358301, 4)"
      ]
     },
     "execution_count": 5,
     "metadata": {},
     "output_type": "execute_result"
    }
   ],
   "source": [
    "hardware_df.shape"
   ]
  },
  {
   "cell_type": "code",
   "execution_count": 6,
   "id": "320c6ac8",
   "metadata": {},
   "outputs": [
    {
     "data": {
      "text/plain": [
       "Index(['email', 'order_id', 'revenue', 'timestamp'], dtype='object')"
      ]
     },
     "execution_count": 6,
     "metadata": {},
     "output_type": "execute_result"
    }
   ],
   "source": [
    "hardware_df.columns"
   ]
  },
  {
   "cell_type": "code",
   "execution_count": 7,
   "id": "1fdfda1e",
   "metadata": {},
   "outputs": [
    {
     "name": "stdout",
     "output_type": "stream",
     "text": [
      "<class 'pandas.core.frame.DataFrame'>\n",
      "RangeIndex: 358301 entries, 0 to 358300\n",
      "Data columns (total 4 columns):\n",
      " #   Column     Non-Null Count   Dtype  \n",
      "---  ------     --------------   -----  \n",
      " 0   email      358301 non-null  object \n",
      " 1   order_id   358301 non-null  object \n",
      " 2   revenue    358301 non-null  float64\n",
      " 3   timestamp  358301 non-null  int64  \n",
      "dtypes: float64(1), int64(1), object(2)\n",
      "memory usage: 10.9+ MB\n"
     ]
    }
   ],
   "source": [
    "hardware_df.info()"
   ]
  },
  {
   "cell_type": "code",
   "execution_count": 8,
   "id": "6b1a6579",
   "metadata": {},
   "outputs": [
    {
     "data": {
      "text/html": [
       "<div>\n",
       "<style scoped>\n",
       "    .dataframe tbody tr th:only-of-type {\n",
       "        vertical-align: middle;\n",
       "    }\n",
       "\n",
       "    .dataframe tbody tr th {\n",
       "        vertical-align: top;\n",
       "    }\n",
       "\n",
       "    .dataframe thead th {\n",
       "        text-align: right;\n",
       "    }\n",
       "</style>\n",
       "<table border=\"1\" class=\"dataframe\">\n",
       "  <thead>\n",
       "    <tr style=\"text-align: right;\">\n",
       "      <th></th>\n",
       "      <th>revenue</th>\n",
       "      <th>timestamp</th>\n",
       "    </tr>\n",
       "  </thead>\n",
       "  <tbody>\n",
       "    <tr>\n",
       "      <th>count</th>\n",
       "      <td>358301.000000</td>\n",
       "      <td>3.583010e+05</td>\n",
       "    </tr>\n",
       "    <tr>\n",
       "      <th>mean</th>\n",
       "      <td>36.627715</td>\n",
       "      <td>1.614266e+09</td>\n",
       "    </tr>\n",
       "    <tr>\n",
       "      <th>std</th>\n",
       "      <td>12.477960</td>\n",
       "      <td>3.918452e+07</td>\n",
       "    </tr>\n",
       "    <tr>\n",
       "      <th>min</th>\n",
       "      <td>19.990000</td>\n",
       "      <td>1.546298e+09</td>\n",
       "    </tr>\n",
       "    <tr>\n",
       "      <th>25%</th>\n",
       "      <td>19.990000</td>\n",
       "      <td>1.580331e+09</td>\n",
       "    </tr>\n",
       "    <tr>\n",
       "      <th>50%</th>\n",
       "      <td>39.990000</td>\n",
       "      <td>1.614262e+09</td>\n",
       "    </tr>\n",
       "    <tr>\n",
       "      <th>75%</th>\n",
       "      <td>49.990000</td>\n",
       "      <td>1.648212e+09</td>\n",
       "    </tr>\n",
       "    <tr>\n",
       "      <th>max</th>\n",
       "      <td>49.990000</td>\n",
       "      <td>1.682035e+09</td>\n",
       "    </tr>\n",
       "  </tbody>\n",
       "</table>\n",
       "</div>"
      ],
      "text/plain": [
       "             revenue     timestamp\n",
       "count  358301.000000  3.583010e+05\n",
       "mean       36.627715  1.614266e+09\n",
       "std        12.477960  3.918452e+07\n",
       "min        19.990000  1.546298e+09\n",
       "25%        19.990000  1.580331e+09\n",
       "50%        39.990000  1.614262e+09\n",
       "75%        49.990000  1.648212e+09\n",
       "max        49.990000  1.682035e+09"
      ]
     },
     "execution_count": 8,
     "metadata": {},
     "output_type": "execute_result"
    }
   ],
   "source": [
    "hardware_df.describe()"
   ]
  },
  {
   "cell_type": "code",
   "execution_count": 9,
   "id": "744cde06",
   "metadata": {},
   "outputs": [],
   "source": [
    "hardware_df['timestamp'] = pd.to_datetime(hardware_df['timestamp'], unit='s')"
   ]
  },
  {
   "cell_type": "code",
   "execution_count": 10,
   "id": "c419f50e",
   "metadata": {},
   "outputs": [
    {
     "data": {
      "text/html": [
       "<div>\n",
       "<style scoped>\n",
       "    .dataframe tbody tr th:only-of-type {\n",
       "        vertical-align: middle;\n",
       "    }\n",
       "\n",
       "    .dataframe tbody tr th {\n",
       "        vertical-align: top;\n",
       "    }\n",
       "\n",
       "    .dataframe thead th {\n",
       "        text-align: right;\n",
       "    }\n",
       "</style>\n",
       "<table border=\"1\" class=\"dataframe\">\n",
       "  <thead>\n",
       "    <tr style=\"text-align: right;\">\n",
       "      <th></th>\n",
       "      <th>email</th>\n",
       "      <th>order_id</th>\n",
       "      <th>revenue</th>\n",
       "      <th>timestamp</th>\n",
       "    </tr>\n",
       "  </thead>\n",
       "  <tbody>\n",
       "    <tr>\n",
       "      <th>0</th>\n",
       "      <td>ellcsqjyxbsoujwbp@outlook.com</td>\n",
       "      <td>EB192F6893DCBF76766D5310</td>\n",
       "      <td>19.99</td>\n",
       "      <td>2019-05-26 00:40:17</td>\n",
       "    </tr>\n",
       "    <tr>\n",
       "      <th>1</th>\n",
       "      <td>jeszbtnjpankz@icloud.com</td>\n",
       "      <td>46AE0481B392C9FF723483BD</td>\n",
       "      <td>39.99</td>\n",
       "      <td>2021-11-06 19:57:06</td>\n",
       "    </tr>\n",
       "    <tr>\n",
       "      <th>2</th>\n",
       "      <td>nxefbqahwuchvnzfdj@protonmail.com</td>\n",
       "      <td>318971F3FD4D0A84C2BB853B</td>\n",
       "      <td>49.99</td>\n",
       "      <td>2022-05-19 10:06:45</td>\n",
       "    </tr>\n",
       "    <tr>\n",
       "      <th>3</th>\n",
       "      <td>nlpgeqlhetla@aol.com</td>\n",
       "      <td>46B36B2797A614C2E09C35B9</td>\n",
       "      <td>49.99</td>\n",
       "      <td>2022-02-06 06:43:01</td>\n",
       "    </tr>\n",
       "    <tr>\n",
       "      <th>4</th>\n",
       "      <td>eizngzzeosylxslyfr@outlook.com</td>\n",
       "      <td>AC924E89C2FAF19F354B85E0</td>\n",
       "      <td>49.99</td>\n",
       "      <td>2022-11-23 21:28:19</td>\n",
       "    </tr>\n",
       "    <tr>\n",
       "      <th>...</th>\n",
       "      <td>...</td>\n",
       "      <td>...</td>\n",
       "      <td>...</td>\n",
       "      <td>...</td>\n",
       "    </tr>\n",
       "    <tr>\n",
       "      <th>358296</th>\n",
       "      <td>cdilhsempyzs@gmail.com</td>\n",
       "      <td>4D3DAC566F7D96B483DE8C71</td>\n",
       "      <td>39.99</td>\n",
       "      <td>2022-12-29 18:02:18</td>\n",
       "    </tr>\n",
       "    <tr>\n",
       "      <th>358297</th>\n",
       "      <td>tjtfwqhykwcyctffy@protonmail.com</td>\n",
       "      <td>49D720C9FF6A092188B566E8</td>\n",
       "      <td>19.99</td>\n",
       "      <td>2019-11-25 06:32:37</td>\n",
       "    </tr>\n",
       "    <tr>\n",
       "      <th>358298</th>\n",
       "      <td>mlrhpavilioofe@hotmail.com</td>\n",
       "      <td>F371D9FDA91D7C536A953437</td>\n",
       "      <td>19.99</td>\n",
       "      <td>2022-10-24 19:33:39</td>\n",
       "    </tr>\n",
       "    <tr>\n",
       "      <th>358299</th>\n",
       "      <td>uofmkdtjrqnvvpavr@gmail.com</td>\n",
       "      <td>6F9F24F63A5EA2E27D07C575</td>\n",
       "      <td>49.99</td>\n",
       "      <td>2019-10-20 11:47:51</td>\n",
       "    </tr>\n",
       "    <tr>\n",
       "      <th>358300</th>\n",
       "      <td>rfuqafjedvtzgnqxlv@yahoo.com</td>\n",
       "      <td>1905DDDF393A950F0BF06371</td>\n",
       "      <td>49.99</td>\n",
       "      <td>2022-09-25 17:34:57</td>\n",
       "    </tr>\n",
       "  </tbody>\n",
       "</table>\n",
       "<p>358301 rows × 4 columns</p>\n",
       "</div>"
      ],
      "text/plain": [
       "                                    email                  order_id  revenue   \n",
       "0           ellcsqjyxbsoujwbp@outlook.com  EB192F6893DCBF76766D5310    19.99  \\\n",
       "1                jeszbtnjpankz@icloud.com  46AE0481B392C9FF723483BD    39.99   \n",
       "2       nxefbqahwuchvnzfdj@protonmail.com  318971F3FD4D0A84C2BB853B    49.99   \n",
       "3                    nlpgeqlhetla@aol.com  46B36B2797A614C2E09C35B9    49.99   \n",
       "4          eizngzzeosylxslyfr@outlook.com  AC924E89C2FAF19F354B85E0    49.99   \n",
       "...                                   ...                       ...      ...   \n",
       "358296             cdilhsempyzs@gmail.com  4D3DAC566F7D96B483DE8C71    39.99   \n",
       "358297   tjtfwqhykwcyctffy@protonmail.com  49D720C9FF6A092188B566E8    19.99   \n",
       "358298         mlrhpavilioofe@hotmail.com  F371D9FDA91D7C536A953437    19.99   \n",
       "358299        uofmkdtjrqnvvpavr@gmail.com  6F9F24F63A5EA2E27D07C575    49.99   \n",
       "358300       rfuqafjedvtzgnqxlv@yahoo.com  1905DDDF393A950F0BF06371    49.99   \n",
       "\n",
       "                 timestamp  \n",
       "0      2019-05-26 00:40:17  \n",
       "1      2021-11-06 19:57:06  \n",
       "2      2022-05-19 10:06:45  \n",
       "3      2022-02-06 06:43:01  \n",
       "4      2022-11-23 21:28:19  \n",
       "...                    ...  \n",
       "358296 2022-12-29 18:02:18  \n",
       "358297 2019-11-25 06:32:37  \n",
       "358298 2022-10-24 19:33:39  \n",
       "358299 2019-10-20 11:47:51  \n",
       "358300 2022-09-25 17:34:57  \n",
       "\n",
       "[358301 rows x 4 columns]"
      ]
     },
     "execution_count": 10,
     "metadata": {},
     "output_type": "execute_result"
    }
   ],
   "source": [
    "hardware_df"
   ]
  },
  {
   "cell_type": "code",
   "execution_count": 11,
   "id": "023af9ed",
   "metadata": {},
   "outputs": [
    {
     "name": "stdout",
     "output_type": "stream",
     "text": [
      "<class 'pandas.core.frame.DataFrame'>\n",
      "RangeIndex: 358301 entries, 0 to 358300\n",
      "Data columns (total 4 columns):\n",
      " #   Column     Non-Null Count   Dtype         \n",
      "---  ------     --------------   -----         \n",
      " 0   email      358301 non-null  object        \n",
      " 1   order_id   358301 non-null  object        \n",
      " 2   revenue    358301 non-null  float64       \n",
      " 3   timestamp  358301 non-null  datetime64[ns]\n",
      "dtypes: datetime64[ns](1), float64(1), object(2)\n",
      "memory usage: 10.9+ MB\n"
     ]
    }
   ],
   "source": [
    "hardware_df.info()"
   ]
  },
  {
   "cell_type": "markdown",
   "id": "79cbebcb",
   "metadata": {},
   "source": [
    "## Load Hardware sales data to BigQuery"
   ]
  },
  {
   "cell_type": "code",
   "execution_count": 33,
   "id": "934d5e68",
   "metadata": {},
   "outputs": [],
   "source": [
    "job_config = bigquery.LoadJobConfig(\n",
    "    schema=[\n",
    "        bigquery.SchemaField(\"timestamp\", bigquery.enums.SqlTypeNames.TIMESTAMP),\n",
    "#         bigquery.SchemaField(\"revenue\", bigquery.enums.SqlTypeNames.NUMERIC),\n",
    "    ],\n",
    "    time_partitioning=bigquery.TimePartitioning(\n",
    "        type_=bigquery.TimePartitioningType.DAY,\n",
    "        field=\"timestamp\",\n",
    "    ),\n",
    "    write_disposition=\"WRITE_TRUNCATE\",\n",
    ")"
   ]
  },
  {
   "cell_type": "code",
   "execution_count": 34,
   "id": "5b7a40fb",
   "metadata": {},
   "outputs": [
    {
     "data": {
      "text/plain": [
       "LoadJob<project=panalyt-datapipeline, location=asia-southeast1, id=5fe65d19-175e-438d-a848-23702c0866c1>"
      ]
     },
     "execution_count": 34,
     "metadata": {},
     "output_type": "execute_result"
    }
   ],
   "source": [
    "job = client.load_table_from_dataframe(\n",
    "    hardware_df, \"datapipeline.raw_car.hardware_sales\", job_config=job_config\n",
    ")  # Make an API request.\n",
    "job.result()  # Wait for the job to complete."
   ]
  },
  {
   "cell_type": "code",
   "execution_count": 35,
   "id": "681ba626",
   "metadata": {},
   "outputs": [
    {
     "data": {
      "text/plain": [
       "358301"
      ]
     },
     "execution_count": 35,
     "metadata": {},
     "output_type": "execute_result"
    }
   ],
   "source": [
    "client.get_table(\"datapipeline.raw_car.hardware_sales\").num_rows"
   ]
  },
  {
   "cell_type": "code",
   "execution_count": null,
   "id": "fbcd7cb4",
   "metadata": {},
   "outputs": [],
   "source": []
  },
  {
   "cell_type": "markdown",
   "id": "652f0798",
   "metadata": {},
   "source": [
    "# Subscription events data"
   ]
  },
  {
   "cell_type": "code",
   "execution_count": 38,
   "id": "0c3f521c",
   "metadata": {},
   "outputs": [],
   "source": [
    "subscription_df = pd.read_json(\"../data/subscription_events.json\", lines=True)"
   ]
  },
  {
   "cell_type": "code",
   "execution_count": 39,
   "id": "5f14d343",
   "metadata": {},
   "outputs": [
    {
     "data": {
      "text/html": [
       "<div>\n",
       "<style scoped>\n",
       "    .dataframe tbody tr th:only-of-type {\n",
       "        vertical-align: middle;\n",
       "    }\n",
       "\n",
       "    .dataframe tbody tr th {\n",
       "        vertical-align: top;\n",
       "    }\n",
       "\n",
       "    .dataframe thead th {\n",
       "        text-align: right;\n",
       "    }\n",
       "</style>\n",
       "<table border=\"1\" class=\"dataframe\">\n",
       "  <thead>\n",
       "    <tr style=\"text-align: right;\">\n",
       "      <th></th>\n",
       "      <th>event_type</th>\n",
       "      <th>order_id</th>\n",
       "      <th>timestamp</th>\n",
       "      <th>customer_id</th>\n",
       "      <th>revenue</th>\n",
       "    </tr>\n",
       "  </thead>\n",
       "  <tbody>\n",
       "    <tr>\n",
       "      <th>0</th>\n",
       "      <td>subscription_cancelled</td>\n",
       "      <td>00001DC603F9FB448E64</td>\n",
       "      <td>2021-01-22 22:43:14</td>\n",
       "      <td>NaN</td>\n",
       "      <td>NaN</td>\n",
       "    </tr>\n",
       "    <tr>\n",
       "      <th>1</th>\n",
       "      <td>subscription_created</td>\n",
       "      <td>00001DC603F9FB448E64</td>\n",
       "      <td>2020-06-14 16:14:32</td>\n",
       "      <td>255fc076-74d7-400f-957f-62b4be673ffc</td>\n",
       "      <td>49.99</td>\n",
       "    </tr>\n",
       "    <tr>\n",
       "      <th>2</th>\n",
       "      <td>subscription_renewed</td>\n",
       "      <td>000036CF5E74CC075FA0</td>\n",
       "      <td>2021-09-14 20:29:40</td>\n",
       "      <td>NaN</td>\n",
       "      <td>NaN</td>\n",
       "    </tr>\n",
       "    <tr>\n",
       "      <th>3</th>\n",
       "      <td>subscription_created</td>\n",
       "      <td>000036CF5E74CC075FA0</td>\n",
       "      <td>2019-09-08 04:22:46</td>\n",
       "      <td>fc340fd7-36d7-41ba-bcb2-8adb0ace904d</td>\n",
       "      <td>36.99</td>\n",
       "    </tr>\n",
       "    <tr>\n",
       "      <th>4</th>\n",
       "      <td>subscription_renewed</td>\n",
       "      <td>000036CF5E74CC075FA0</td>\n",
       "      <td>2022-09-15 14:35:56</td>\n",
       "      <td>NaN</td>\n",
       "      <td>NaN</td>\n",
       "    </tr>\n",
       "  </tbody>\n",
       "</table>\n",
       "</div>"
      ],
      "text/plain": [
       "               event_type              order_id           timestamp   \n",
       "0  subscription_cancelled  00001DC603F9FB448E64 2021-01-22 22:43:14  \\\n",
       "1    subscription_created  00001DC603F9FB448E64 2020-06-14 16:14:32   \n",
       "2    subscription_renewed  000036CF5E74CC075FA0 2021-09-14 20:29:40   \n",
       "3    subscription_created  000036CF5E74CC075FA0 2019-09-08 04:22:46   \n",
       "4    subscription_renewed  000036CF5E74CC075FA0 2022-09-15 14:35:56   \n",
       "\n",
       "                            customer_id  revenue  \n",
       "0                                   NaN      NaN  \n",
       "1  255fc076-74d7-400f-957f-62b4be673ffc    49.99  \n",
       "2                                   NaN      NaN  \n",
       "3  fc340fd7-36d7-41ba-bcb2-8adb0ace904d    36.99  \n",
       "4                                   NaN      NaN  "
      ]
     },
     "execution_count": 39,
     "metadata": {},
     "output_type": "execute_result"
    }
   ],
   "source": [
    "subscription_df.head()"
   ]
  },
  {
   "cell_type": "code",
   "execution_count": 40,
   "id": "148a25e5",
   "metadata": {},
   "outputs": [
    {
     "data": {
      "text/plain": [
       "(711502, 5)"
      ]
     },
     "execution_count": 40,
     "metadata": {},
     "output_type": "execute_result"
    }
   ],
   "source": [
    "subscription_df.shape"
   ]
  },
  {
   "cell_type": "code",
   "execution_count": 42,
   "id": "37fed89c",
   "metadata": {},
   "outputs": [
    {
     "data": {
      "text/plain": [
       "Index(['event_type', 'order_id', 'timestamp', 'customer_id', 'revenue'], dtype='object')"
      ]
     },
     "execution_count": 42,
     "metadata": {},
     "output_type": "execute_result"
    }
   ],
   "source": [
    "subscription_df.columns"
   ]
  },
  {
   "cell_type": "code",
   "execution_count": 43,
   "id": "6ec6ff4c",
   "metadata": {},
   "outputs": [
    {
     "name": "stdout",
     "output_type": "stream",
     "text": [
      "<class 'pandas.core.frame.DataFrame'>\n",
      "RangeIndex: 711502 entries, 0 to 711501\n",
      "Data columns (total 5 columns):\n",
      " #   Column       Non-Null Count   Dtype         \n",
      "---  ------       --------------   -----         \n",
      " 0   event_type   711502 non-null  object        \n",
      " 1   order_id     711502 non-null  object        \n",
      " 2   timestamp    711502 non-null  datetime64[ns]\n",
      " 3   customer_id  273004 non-null  object        \n",
      " 4   revenue      273004 non-null  float64       \n",
      "dtypes: datetime64[ns](1), float64(1), object(3)\n",
      "memory usage: 27.1+ MB\n"
     ]
    }
   ],
   "source": [
    "subscription_df.info()"
   ]
  },
  {
   "cell_type": "code",
   "execution_count": 45,
   "id": "23f758f3",
   "metadata": {},
   "outputs": [
    {
     "data": {
      "text/html": [
       "<div>\n",
       "<style scoped>\n",
       "    .dataframe tbody tr th:only-of-type {\n",
       "        vertical-align: middle;\n",
       "    }\n",
       "\n",
       "    .dataframe tbody tr th {\n",
       "        vertical-align: top;\n",
       "    }\n",
       "\n",
       "    .dataframe thead th {\n",
       "        text-align: right;\n",
       "    }\n",
       "</style>\n",
       "<table border=\"1\" class=\"dataframe\">\n",
       "  <thead>\n",
       "    <tr style=\"text-align: right;\">\n",
       "      <th></th>\n",
       "      <th>timestamp</th>\n",
       "      <th>revenue</th>\n",
       "    </tr>\n",
       "  </thead>\n",
       "  <tbody>\n",
       "    <tr>\n",
       "      <th>count</th>\n",
       "      <td>711502</td>\n",
       "      <td>273004.000000</td>\n",
       "    </tr>\n",
       "    <tr>\n",
       "      <th>mean</th>\n",
       "      <td>2021-09-05 10:44:50.628348928</td>\n",
       "      <td>28.009648</td>\n",
       "    </tr>\n",
       "    <tr>\n",
       "      <th>min</th>\n",
       "      <td>2018-12-31 23:01:45</td>\n",
       "      <td>9.990000</td>\n",
       "    </tr>\n",
       "    <tr>\n",
       "      <th>25%</th>\n",
       "      <td>2020-11-12 18:26:01</td>\n",
       "      <td>14.990000</td>\n",
       "    </tr>\n",
       "    <tr>\n",
       "      <th>50%</th>\n",
       "      <td>2021-11-07 23:31:49</td>\n",
       "      <td>25.990000</td>\n",
       "    </tr>\n",
       "    <tr>\n",
       "      <th>75%</th>\n",
       "      <td>2022-08-19 20:40:31.249999872</td>\n",
       "      <td>36.990000</td>\n",
       "    </tr>\n",
       "    <tr>\n",
       "      <th>max</th>\n",
       "      <td>2023-04-20 23:57:39</td>\n",
       "      <td>49.990000</td>\n",
       "    </tr>\n",
       "    <tr>\n",
       "      <th>std</th>\n",
       "      <td>NaN</td>\n",
       "      <td>12.552157</td>\n",
       "    </tr>\n",
       "  </tbody>\n",
       "</table>\n",
       "</div>"
      ],
      "text/plain": [
       "                           timestamp        revenue\n",
       "count                         711502  273004.000000\n",
       "mean   2021-09-05 10:44:50.628348928      28.009648\n",
       "min              2018-12-31 23:01:45       9.990000\n",
       "25%              2020-11-12 18:26:01      14.990000\n",
       "50%              2021-11-07 23:31:49      25.990000\n",
       "75%    2022-08-19 20:40:31.249999872      36.990000\n",
       "max              2023-04-20 23:57:39      49.990000\n",
       "std                              NaN      12.552157"
      ]
     },
     "execution_count": 45,
     "metadata": {},
     "output_type": "execute_result"
    }
   ],
   "source": [
    "subscription_df.describe()"
   ]
  },
  {
   "cell_type": "markdown",
   "id": "043f2a1f",
   "metadata": {},
   "source": [
    "## Load subscription events data to BigQuery"
   ]
  },
  {
   "cell_type": "code",
   "execution_count": 46,
   "id": "a945204d",
   "metadata": {},
   "outputs": [],
   "source": [
    "job_config = bigquery.LoadJobConfig(\n",
    "    schema=[\n",
    "        bigquery.SchemaField(\"timestamp\", bigquery.enums.SqlTypeNames.TIMESTAMP),\n",
    "    ],\n",
    "    time_partitioning=bigquery.TimePartitioning(\n",
    "        type_=bigquery.TimePartitioningType.DAY,\n",
    "        field=\"timestamp\",\n",
    "    ),\n",
    "    write_disposition=\"WRITE_TRUNCATE\",\n",
    ")"
   ]
  },
  {
   "cell_type": "code",
   "execution_count": 48,
   "id": "76c65c1d",
   "metadata": {},
   "outputs": [
    {
     "data": {
      "text/plain": [
       "LoadJob<project=panalyt-datapipeline, location=asia-southeast1, id=e95a91ca-fa05-4866-b34e-d131d2b3c21e>"
      ]
     },
     "execution_count": 48,
     "metadata": {},
     "output_type": "execute_result"
    }
   ],
   "source": [
    "job = client.load_table_from_dataframe(\n",
    "    subscription_df, \"datapipeline.raw_car.subscription_events\", job_config=job_config\n",
    ")  # Make an API request.\n",
    "job.result()  # Wait for the job to complete."
   ]
  },
  {
   "cell_type": "code",
   "execution_count": 49,
   "id": "a2bd3623",
   "metadata": {},
   "outputs": [
    {
     "data": {
      "text/plain": [
       "711502"
      ]
     },
     "execution_count": 49,
     "metadata": {},
     "output_type": "execute_result"
    }
   ],
   "source": [
    "client.get_table(\"datapipeline.raw_car.subscription_events\").num_rows"
   ]
  },
  {
   "cell_type": "code",
   "execution_count": null,
   "id": "c0e9aaa4",
   "metadata": {},
   "outputs": [],
   "source": []
  },
  {
   "cell_type": "markdown",
   "id": "421e40e4",
   "metadata": {},
   "source": [
    "# Spark"
   ]
  },
  {
   "cell_type": "code",
   "execution_count": 22,
   "id": "fae417db",
   "metadata": {},
   "outputs": [
    {
     "data": {
      "text/plain": [
       "<pyspark.conf.SparkConf at 0x14ce01510>"
      ]
     },
     "execution_count": 22,
     "metadata": {},
     "output_type": "execute_result"
    }
   ],
   "source": [
    "conf = SparkConf()\n",
    "conf.set(\"spark.sql.sources.partitionOverwriteMode\", \"dynamic\")\n",
    "conf.set(\"spark.sql.sources.partitionColumnTypeInference.enabled\", False)\n",
    "conf.set(\"spark.sql.broadcastTimeout\", \"2400\")"
   ]
  },
  {
   "cell_type": "code",
   "execution_count": 23,
   "id": "4478940e",
   "metadata": {},
   "outputs": [
    {
     "name": "stderr",
     "output_type": "stream",
     "text": [
      "23/05/10 10:13:10 WARN Utils: Your hostname, MayM1.local resolves to a loopback address: 127.0.0.1; using 192.168.1.6 instead (on interface en0)\n",
      "23/05/10 10:13:10 WARN Utils: Set SPARK_LOCAL_IP if you need to bind to another address\n",
      "Setting default log level to \"WARN\".\n",
      "To adjust logging level use sc.setLogLevel(newLevel). For SparkR, use setLogLevel(newLevel).\n",
      "23/05/10 10:13:10 WARN NativeCodeLoader: Unable to load native-hadoop library for your platform... using builtin-java classes where applicable\n"
     ]
    }
   ],
   "source": [
    "spark = (\n",
    "    SparkSession.builder.config(conf=conf)\n",
    "    .appName(\"spark-jobs\")\n",
    "    .enableHiveSupport()\n",
    "    .getOrCreate()\n",
    ")"
   ]
  },
  {
   "cell_type": "code",
   "execution_count": 25,
   "id": "3c674c89",
   "metadata": {},
   "outputs": [],
   "source": [
    "log4j = spark._jvm.org.apache.log4j\n",
    "logger = log4j.LogManager.getLogger(__name__)"
   ]
  },
  {
   "cell_type": "code",
   "execution_count": 26,
   "id": "7d62974b",
   "metadata": {},
   "outputs": [
    {
     "name": "stderr",
     "output_type": "stream",
     "text": [
      "                                                                                \r"
     ]
    }
   ],
   "source": [
    "subscription_sdf = spark.read.json(\"../data/subscription_events.json\")"
   ]
  },
  {
   "cell_type": "code",
   "execution_count": 30,
   "id": "79c9e8b6",
   "metadata": {},
   "outputs": [
    {
     "name": "stdout",
     "output_type": "stream",
     "text": [
      "+--------------------+--------------------+--------------------+-------+----------+\n",
      "|         customer_id|          event_type|            order_id|revenue| timestamp|\n",
      "+--------------------+--------------------+--------------------+-------+----------+\n",
      "|                null|subscription_canc...|00001DC603F9FB448E64|   null|1611355394|\n",
      "|255fc076-74d7-400...|subscription_created|00001DC603F9FB448E64|  49.99|1592151272|\n",
      "|                null|subscription_renewed|000036CF5E74CC075FA0|   null|1631651380|\n",
      "|fc340fd7-36d7-41b...|subscription_created|000036CF5E74CC075FA0|  36.99|1567916566|\n",
      "|                null|subscription_renewed|000036CF5E74CC075FA0|   null|1663252556|\n",
      "|                null|subscription_renewed|000036CF5E74CC075FA0|   null|1599684839|\n",
      "|                null|subscription_renewed|000068E0C2382E9D8C98|   null|1649159012|\n",
      "|e6a51f87-00d6-485...|subscription_created|000068E0C2382E9D8C98|  49.99|1585666788|\n",
      "|                null|subscription_renewed|000068E0C2382E9D8C98|   null|1681168395|\n",
      "|                null|subscription_renewed|000068E0C2382E9D8C98|   null|1617532062|\n",
      "|7d7b4bff-b0ea-447...|subscription_created|0000727871DD2BEA8DE3|  25.99|1643319983|\n",
      "|                null|subscription_canc...|0000727871DD2BEA8DE3|   null|1656875587|\n",
      "|c0fd36c4-689b-45f...|subscription_created|000151D5EA43081F4A97|  49.99|1548395421|\n",
      "|                null|subscription_canc...|000151D5EA43081F4A97|   null|1552785488|\n",
      "|f6abe471-241a-477...|subscription_created|000160B0C7ECB83A20F8|   9.99|1670872790|\n",
      "|                null|subscription_canc...|000160B0C7ECB83A20F8|   null|1681601385|\n",
      "|b48602eb-dea8-42c...|subscription_created|00019BF88BBDDF5FB294|  33.33|1642123418|\n",
      "|                null|subscription_renewed|00019BF88BBDDF5FB294|   null|1673796298|\n",
      "|5155ff99-59da-4d2...|subscription_created|0001C3950D60E1773068|  49.99|1669325293|\n",
      "|                null|subscription_renewed|0001F1C2FB61AF53AD88|   null|1643127015|\n",
      "+--------------------+--------------------+--------------------+-------+----------+\n",
      "only showing top 20 rows\n",
      "\n"
     ]
    }
   ],
   "source": [
    "subscription_sdf.show()"
   ]
  },
  {
   "cell_type": "code",
   "execution_count": 31,
   "id": "53110d06",
   "metadata": {},
   "outputs": [
    {
     "name": "stdout",
     "output_type": "stream",
     "text": [
      "root\n",
      " |-- customer_id: string (nullable = true)\n",
      " |-- event_type: string (nullable = true)\n",
      " |-- order_id: string (nullable = true)\n",
      " |-- revenue: double (nullable = true)\n",
      " |-- timestamp: long (nullable = true)\n",
      "\n"
     ]
    }
   ],
   "source": [
    "subscription_sdf.printSchema()"
   ]
  },
  {
   "cell_type": "code",
   "execution_count": null,
   "id": "cb045ed6",
   "metadata": {},
   "outputs": [],
   "source": []
  }
 ],
 "metadata": {
  "kernelspec": {
   "display_name": "Python 3 (ipykernel)",
   "language": "python",
   "name": "python3"
  },
  "language_info": {
   "codemirror_mode": {
    "name": "ipython",
    "version": 3
   },
   "file_extension": ".py",
   "mimetype": "text/x-python",
   "name": "python",
   "nbconvert_exporter": "python",
   "pygments_lexer": "ipython3",
   "version": "3.10.10"
  }
 },
 "nbformat": 4,
 "nbformat_minor": 5
}
